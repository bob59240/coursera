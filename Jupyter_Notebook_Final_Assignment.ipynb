{
 "cells": [
  {
   "cell_type": "markdown",
   "id": "a6e2a114-ff67-4e24-865d-f334548a44bd",
   "metadata": {},
   "source": [
    "<h1>My Jupyter Notebook on IBM Watson Studio<h1>"
   ]
  },
  {
   "cell_type": "markdown",
   "id": "f5cb7c3f-ea07-4b65-8303-612ddf989cfa",
   "metadata": {},
   "source": [
    "**Ben Brunt** \n",
    "<br>\n",
    "Engineer"
   ]
  },
  {
   "cell_type": "markdown",
   "id": "bd19573b-39cf-4e54-8979-fb57f1fed089",
   "metadata": {},
   "source": [
    "*I am interested in data science because I want to be able to derive valuable information from large amounts of data.*"
   ]
  },
  {
   "cell_type": "markdown",
   "id": "accf069f-f97d-4436-8db0-b77a406fa6a8",
   "metadata": {},
   "source": [
    "<h3>The following code adds 1 and 1."
   ]
  },
  {
   "cell_type": "code",
   "execution_count": 8,
   "id": "dc8c5d00-fb79-40ca-b60d-a4035a958a01",
   "metadata": {},
   "outputs": [
    {
     "data": {
      "text/plain": [
       "2"
      ]
     },
     "execution_count": 8,
     "metadata": {},
     "output_type": "execute_result"
    }
   ],
   "source": [
    "1+1"
   ]
  },
  {
   "cell_type": "markdown",
   "id": "31463be8-aba9-4c1b-a61d-5d44f5a31c15",
   "metadata": {},
   "source": [
    "- Bacon\n",
    "- Egg\n",
    "- Milk\n",
    "<hr>\n",
    "1. One\n",
    "1. Two\n",
    "1. Three"
   ]
  }
 ],
 "metadata": {
  "kernelspec": {
   "display_name": "Python",
   "language": "python",
   "name": "conda-env-python-py"
  },
  "language_info": {
   "codemirror_mode": {
    "name": "ipython",
    "version": 3
   },
   "file_extension": ".py",
   "mimetype": "text/x-python",
   "name": "python",
   "nbconvert_exporter": "python",
   "pygments_lexer": "ipython3",
   "version": "3.7.12"
  }
 },
 "nbformat": 4,
 "nbformat_minor": 5
}
